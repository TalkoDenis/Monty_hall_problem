{
 "cells": [
  {
   "cell_type": "code",
   "execution_count": 1,
   "id": "90b66708",
   "metadata": {},
   "outputs": [],
   "source": [
    "import random"
   ]
  },
  {
   "cell_type": "code",
   "execution_count": 2,
   "id": "4ed7c84d",
   "metadata": {},
   "outputs": [],
   "source": [
    "def monty_hall_without_change(choices):\n",
    "    # В начале каждой попытки случайно перемешаем массив\n",
    "    random.shuffle(choices)\n",
    "    return choices[random.randrange(len(choices))]"
   ]
  },
  {
   "cell_type": "code",
   "execution_count": 5,
   "id": "10c06776",
   "metadata": {},
   "outputs": [],
   "source": [
    "def monty_hall_with_change(choices):\n",
    "    # В начале каждой попытки случайно перемешаем массив\n",
    "    random.shuffle(choices)\n",
    "    # Первый выбор\n",
    "    first_choice = random.randrange(len(choices))\n",
    "    # Ведущий открывает дверь с козлом\n",
    "    for i in range(len(choices)):\n",
    "        if i != first_choice and choices[i] == 'к':\n",
    "            host_choice = i\n",
    "            break\n",
    "    # Делаем второй выбор, меняя первое решение\n",
    "    for i in range(len(choices)):\n",
    "        if i != first_choice and i != host_choice:\n",
    "            return choices[i]"
   ]
  },
  {
   "cell_type": "code",
   "execution_count": 7,
   "id": "982ceca3",
   "metadata": {},
   "outputs": [
    {
     "name": "stdout",
     "output_type": "stream",
     "text": [
      "Вероятность выиграть без изменения двери\n",
      "0.33328\n",
      "Вероятность выиграть с изменением двери\n",
      "0.66742\n"
     ]
    }
   ],
   "source": [
    "# К - козел, а - автомобиль\n",
    "choices = ['к', 'к', 'а']\n",
    "# Просто калое-либо большое число (количество опытов)\n",
    "N = 100000\n",
    "\n",
    "# Проверяем вариант с неизменным выбором\n",
    "win_count = 0\n",
    "for _ in range(N):\n",
    "    result = monty_hall_without_change(choices)\n",
    "    if result == 'а':\n",
    "        win_count += 1\n",
    "# Вероятность выиграть - частота выигранных опытов\n",
    "print('Вероятность выиграть без изменения двери')\n",
    "print(win_count/N)\n",
    "\n",
    "# Проверяем вариант с изменением выбора\n",
    "win_count = 0\n",
    "for _ in range(N):\n",
    "    result = monty_hall_with_change(choices)\n",
    "    if result == 'а':\n",
    "        win_count += 1\n",
    "# Вероятность выиграть - частота выигранных опытов\n",
    "print('Вероятность выиграть с изменением двери')\n",
    "print(win_count/N)"
   ]
  }
 ],
 "metadata": {
  "kernelspec": {
   "display_name": "Python 3",
   "language": "python",
   "name": "python3"
  },
  "language_info": {
   "codemirror_mode": {
    "name": "ipython",
    "version": 3
   },
   "file_extension": ".py",
   "mimetype": "text/x-python",
   "name": "python",
   "nbconvert_exporter": "python",
   "pygments_lexer": "ipython3",
   "version": "3.8.8"
  }
 },
 "nbformat": 4,
 "nbformat_minor": 5
}
